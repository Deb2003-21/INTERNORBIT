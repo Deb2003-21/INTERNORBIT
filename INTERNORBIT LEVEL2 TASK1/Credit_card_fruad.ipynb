{
 "cells": [
  {
   "cell_type": "code",
   "execution_count": 3,
   "id": "15d90277-dc9f-41e9-9885-a3fd6e9d0acf",
   "metadata": {},
   "outputs": [
    {
     "data": {
      "text/plain": [
       "((284807, 31),\n",
       "    Time        V1        V2        V3        V4        V5        V6        V7  \\\n",
       " 0   0.0 -1.359807 -0.072781  2.536347  1.378155 -0.338321  0.462388  0.239599   \n",
       " 1   0.0  1.191857  0.266151  0.166480  0.448154  0.060018 -0.082361 -0.078803   \n",
       " 2   1.0 -1.358354 -1.340163  1.773209  0.379780 -0.503198  1.800499  0.791461   \n",
       " 3   1.0 -0.966272 -0.185226  1.792993 -0.863291 -0.010309  1.247203  0.237609   \n",
       " 4   2.0 -1.158233  0.877737  1.548718  0.403034 -0.407193  0.095921  0.592941   \n",
       " \n",
       "          V8        V9  ...       V21       V22       V23       V24       V25  \\\n",
       " 0  0.098698  0.363787  ... -0.018307  0.277838 -0.110474  0.066928  0.128539   \n",
       " 1  0.085102 -0.255425  ... -0.225775 -0.638672  0.101288 -0.339846  0.167170   \n",
       " 2  0.247676 -1.514654  ...  0.247998  0.771679  0.909412 -0.689281 -0.327642   \n",
       " 3  0.377436 -1.387024  ... -0.108300  0.005274 -0.190321 -1.175575  0.647376   \n",
       " 4 -0.270533  0.817739  ... -0.009431  0.798278 -0.137458  0.141267 -0.206010   \n",
       " \n",
       "         V26       V27       V28  Amount  Class  \n",
       " 0 -0.189115  0.133558 -0.021053  149.62      0  \n",
       " 1  0.125895 -0.008983  0.014724    2.69      0  \n",
       " 2 -0.139097 -0.055353 -0.059752  378.66      0  \n",
       " 3 -0.221929  0.062723  0.061458  123.50      0  \n",
       " 4  0.502292  0.219422  0.215153   69.99      0  \n",
       " \n",
       " [5 rows x 31 columns])"
      ]
     },
     "execution_count": 3,
     "metadata": {},
     "output_type": "execute_result"
    }
   ],
   "source": [
    "import pandas as pd\n",
    "\n",
    "# Load the dataset\n",
    "file_path = \"C:/Users/HP/OneDrive/Desktop/creditcard.csv\"\n",
    "df = pd.read_csv(file_path)\n",
    "\n",
    "# Show the shape and first few rows of the dataset\n",
    "df.shape, df.head()\n"
   ]
  },
  {
   "cell_type": "code",
   "execution_count": 5,
   "id": "79e52b85-c8f2-4f0f-b87b-dc2d6c8d6b20",
   "metadata": {},
   "outputs": [
    {
     "data": {
      "text/plain": [
       "({'0': {'precision': 0.99985563215072,\n",
       "   'recall': 0.9743598761958356,\n",
       "   'f1-score': 0.9869431233189049,\n",
       "   'support': 56864.0},\n",
       "  '1': {'precision': 0.05813953488372093,\n",
       "   'recall': 0.9183673469387755,\n",
       "   'f1-score': 0.10935601458080195,\n",
       "   'support': 98.0},\n",
       "  'accuracy': 0.9742635441171307,\n",
       "  'macro avg': {'precision': 0.5289975835172205,\n",
       "   'recall': 0.9463636115673055,\n",
       "   'f1-score': 0.5481495689498534,\n",
       "   'support': 56962.0},\n",
       "  'weighted avg': {'precision': 0.9982354612028571,\n",
       "   'recall': 0.9742635441171307,\n",
       "   'f1-score': 0.9854332827821202,\n",
       "   'support': 56962.0}},\n",
       " {'0': {'precision': 0.9997186318473578,\n",
       "   'recall': 0.9997362127180641,\n",
       "   'f1-score': 0.9997274222054181,\n",
       "   'support': 56864.0},\n",
       "  '1': {'precision': 0.845360824742268,\n",
       "   'recall': 0.8367346938775511,\n",
       "   'f1-score': 0.841025641025641,\n",
       "   'support': 98.0},\n",
       "  'accuracy': 0.9994557775359011,\n",
       "  'macro avg': {'precision': 0.9225397282948129,\n",
       "   'recall': 0.9182354532978076,\n",
       "   'f1-score': 0.9203765316155296,\n",
       "   'support': 56962.0},\n",
       "  'weighted avg': {'precision': 0.9994530676976386,\n",
       "   'recall': 0.9994557775359011,\n",
       "   'f1-score': 0.9994543844863139,\n",
       "   'support': 56962.0}})"
      ]
     },
     "execution_count": 5,
     "metadata": {},
     "output_type": "execute_result"
    }
   ],
   "source": [
    "from sklearn.model_selection import train_test_split\n",
    "from sklearn.preprocessing import StandardScaler\n",
    "from sklearn.linear_model import LogisticRegression\n",
    "from sklearn.ensemble import RandomForestClassifier\n",
    "from sklearn.metrics import classification_report\n",
    "from imblearn.over_sampling import SMOTE\n",
    "\n",
    "# Step 1: Normalize 'Time' and 'Amount'\n",
    "df_normalized = df.copy()\n",
    "scaler = StandardScaler()\n",
    "df_normalized[['Time', 'Amount']] = scaler.fit_transform(df[['Time', 'Amount']])\n",
    "\n",
    "# Step 2: Define features and target\n",
    "X = df_normalized.drop('Class', axis=1)\n",
    "y = df_normalized['Class']\n",
    "\n",
    "# Step 3: Split dataset\n",
    "X_train, X_test, y_train, y_test = train_test_split(X, y, test_size=0.2, random_state=42, stratify=y)\n",
    "\n",
    "# Step 4: Address class imbalance with SMOTE\n",
    "smote = SMOTE(random_state=42)\n",
    "X_resampled, y_resampled = smote.fit_resample(X_train, y_train)\n",
    "\n",
    "# Step 5: Train models\n",
    "log_reg = LogisticRegression(max_iter=1000, random_state=42)\n",
    "log_reg.fit(X_resampled, y_resampled)\n",
    "\n",
    "rf = RandomForestClassifier(n_estimators=100, random_state=42)\n",
    "rf.fit(X_resampled, y_resampled)\n",
    "\n",
    "# Step 6: Evaluate models\n",
    "log_reg_preds = log_reg.predict(X_test)\n",
    "rf_preds = rf.predict(X_test)\n",
    "\n",
    "log_reg_report = classification_report(y_test, log_reg_preds, output_dict=True)\n",
    "rf_report = classification_report(y_test, rf_preds, output_dict=True)\n",
    "\n",
    "log_reg_report, rf_report\n"
   ]
  },
  {
   "cell_type": "code",
   "execution_count": null,
   "id": "c19a044c-97a6-4413-b837-0e3b3d072dc0",
   "metadata": {},
   "outputs": [],
   "source": []
  }
 ],
 "metadata": {
  "kernelspec": {
   "display_name": "Python 3 (ipykernel)",
   "language": "python",
   "name": "python3"
  },
  "language_info": {
   "codemirror_mode": {
    "name": "ipython",
    "version": 3
   },
   "file_extension": ".py",
   "mimetype": "text/x-python",
   "name": "python",
   "nbconvert_exporter": "python",
   "pygments_lexer": "ipython3",
   "version": "3.12.7"
  }
 },
 "nbformat": 4,
 "nbformat_minor": 5
}
