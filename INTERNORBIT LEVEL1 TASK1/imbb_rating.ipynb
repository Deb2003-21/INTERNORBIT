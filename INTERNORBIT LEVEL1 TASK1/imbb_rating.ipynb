{
 "cells": [
  {
   "cell_type": "code",
   "execution_count": 5,
   "id": "bbede842-a4a3-43ca-ac9f-0028e8ec141f",
   "metadata": {},
   "outputs": [
    {
     "name": "stdout",
     "output_type": "stream",
     "text": [
      "<class 'pandas.core.frame.DataFrame'>\n",
      "RangeIndex: 15509 entries, 0 to 15508\n",
      "Data columns (total 10 columns):\n",
      " #   Column    Non-Null Count  Dtype  \n",
      "---  ------    --------------  -----  \n",
      " 0   Name      15509 non-null  object \n",
      " 1   Year      14981 non-null  object \n",
      " 2   Duration  7240 non-null   object \n",
      " 3   Genre     13632 non-null  object \n",
      " 4   Rating    7919 non-null   float64\n",
      " 5   Votes     7920 non-null   object \n",
      " 6   Director  14984 non-null  object \n",
      " 7   Actor 1   13892 non-null  object \n",
      " 8   Actor 2   13125 non-null  object \n",
      " 9   Actor 3   12365 non-null  object \n",
      "dtypes: float64(1), object(9)\n",
      "memory usage: 1.2+ MB\n"
     ]
    },
    {
     "data": {
      "text/plain": [
       "(None,\n",
       "                                  Name    Year Duration            Genre  \\\n",
       " 0                                         NaN      NaN            Drama   \n",
       " 1  #Gadhvi (He thought he was Gandhi)  (2019)  109 min            Drama   \n",
       " 2                         #Homecoming  (2021)   90 min   Drama, Musical   \n",
       " 3                             #Yaaram  (2019)  110 min  Comedy, Romance   \n",
       " 4                   ...And Once Again  (2010)  105 min            Drama   \n",
       " \n",
       "    Rating Votes            Director       Actor 1             Actor 2  \\\n",
       " 0     NaN   NaN       J.S. Randhawa      Manmauji              Birbal   \n",
       " 1     7.0     8       Gaurav Bakshi  Rasika Dugal      Vivek Ghamande   \n",
       " 2     NaN   NaN  Soumyajit Majumdar  Sayani Gupta   Plabita Borthakur   \n",
       " 3     4.4    35          Ovais Khan       Prateik          Ishita Raj   \n",
       " 4     NaN   NaN        Amol Palekar  Rajat Kapoor  Rituparna Sengupta   \n",
       " \n",
       "            Actor 3  \n",
       " 0  Rajendra Bhatia  \n",
       " 1    Arvind Jangid  \n",
       " 2       Roy Angana  \n",
       " 3  Siddhant Kapoor  \n",
       " 4      Antara Mali  )"
      ]
     },
     "execution_count": 5,
     "metadata": {},
     "output_type": "execute_result"
    }
   ],
   "source": [
    "# Try reading the CSV file with ISO-8859-1 encoding\n",
    "import pandas as pd\n",
    "df = pd.read_csv('C:/Users/HP/OneDrive/Desktop/IMDb Movies India.csv', encoding='ISO-8859-1')\n",
    "\n",
    "# Display basic information and first few rows\n",
    "df_info = df.info()\n",
    "df_head = df.head()\n",
    "\n",
    "df_info, df_head\n"
   ]
  },
  {
   "cell_type": "code",
   "execution_count": 7,
   "id": "0f32920f-1b2a-40f4-a7fa-25a0d5424463",
   "metadata": {},
   "outputs": [
    {
     "name": "stderr",
     "output_type": "stream",
     "text": [
      "C:\\Users\\HP\\AppData\\Local\\Temp\\ipykernel_18368\\4100640662.py:14: SettingWithCopyWarning: \n",
      "A value is trying to be set on a copy of a slice from a DataFrame.\n",
      "Try using .loc[row_indexer,col_indexer] = value instead\n",
      "\n",
      "See the caveats in the documentation: https://pandas.pydata.org/pandas-docs/stable/user_guide/indexing.html#returning-a-view-versus-a-copy\n",
      "  df_clean[col] = df_clean[col].fillna('Unknown')\n"
     ]
    },
    {
     "data": {
      "text/plain": [
       "(1.6466252889387973, 0.1143105221092584)"
      ]
     },
     "execution_count": 7,
     "metadata": {},
     "output_type": "execute_result"
    }
   ],
   "source": [
    "from sklearn.model_selection import train_test_split\n",
    "from sklearn.ensemble import RandomForestRegressor\n",
    "from sklearn.metrics import mean_squared_error, r2_score\n",
    "from sklearn.preprocessing import OneHotEncoder\n",
    "from sklearn.compose import ColumnTransformer\n",
    "from sklearn.pipeline import Pipeline\n",
    "import numpy as np\n",
    "\n",
    "# Drop rows with missing target (Rating)\n",
    "df_clean = df.dropna(subset=['Rating'])\n",
    "\n",
    "# Fill missing values in relevant features with 'Unknown'\n",
    "for col in ['Genre', 'Director', 'Actor 1', 'Actor 2', 'Actor 3']:\n",
    "    df_clean[col] = df_clean[col].fillna('Unknown')\n",
    "\n",
    "# Select features and target\n",
    "X = df_clean[['Genre', 'Director', 'Actor 1', 'Actor 2', 'Actor 3']]\n",
    "y = df_clean['Rating']\n",
    "\n",
    "# Define column transformer for encoding categorical variables\n",
    "categorical_features = ['Genre', 'Director', 'Actor 1', 'Actor 2', 'Actor 3']\n",
    "preprocessor = ColumnTransformer(transformers=[\n",
    "    ('cat', OneHotEncoder(handle_unknown='ignore', max_categories=100), categorical_features)\n",
    "])\n",
    "\n",
    "# Create pipeline with preprocessing and regression model\n",
    "model = Pipeline(steps=[\n",
    "    ('preprocessor', preprocessor),\n",
    "    ('regressor', RandomForestRegressor(n_estimators=100, random_state=42))\n",
    "])\n",
    "\n",
    "# Split data\n",
    "X_train, X_test, y_train, y_test = train_test_split(X, y, test_size=0.2, random_state=42)\n",
    "\n",
    "# Train model\n",
    "model.fit(X_train, y_train)\n",
    "\n",
    "# Predict and evaluate\n",
    "y_pred = model.predict(X_test)\n",
    "mse = mean_squared_error(y_test, y_pred)\n",
    "r2 = r2_score(y_test, y_pred)\n",
    "\n",
    "mse, r2\n"
   ]
  },
  {
   "cell_type": "code",
   "execution_count": null,
   "id": "f087b3fd-8c0c-4953-8d94-1a6654a4786b",
   "metadata": {},
   "outputs": [],
   "source": []
  }
 ],
 "metadata": {
  "kernelspec": {
   "display_name": "Python 3 (ipykernel)",
   "language": "python",
   "name": "python3"
  },
  "language_info": {
   "codemirror_mode": {
    "name": "ipython",
    "version": 3
   },
   "file_extension": ".py",
   "mimetype": "text/x-python",
   "name": "python",
   "nbconvert_exporter": "python",
   "pygments_lexer": "ipython3",
   "version": "3.12.7"
  }
 },
 "nbformat": 4,
 "nbformat_minor": 5
}
