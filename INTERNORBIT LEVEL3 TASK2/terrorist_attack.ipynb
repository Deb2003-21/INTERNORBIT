{
 "cells": [
  {
   "cell_type": "code",
   "execution_count": 7,
   "id": "2690f1a8-ca08-4adc-84d8-f6c8056c8701",
   "metadata": {},
   "outputs": [],
   "source": [
    "import pandas as pd\n",
    "import numpy as np\n",
    "from sklearn.model_selection import train_test_split\n",
    "from sklearn.preprocessing import LabelEncoder\n",
    "from sklearn.ensemble import RandomForestClassifier\n",
    "from sklearn.metrics import accuracy_score, classification_report\n"
   ]
  },
  {
   "cell_type": "code",
   "execution_count": 9,
   "id": "a147de1e-b41e-42a6-b1b6-ff54acc881d8",
   "metadata": {},
   "outputs": [],
   "source": [
    "# Load dataset (adjust path if needed)\n",
    "df = pd.read_csv(\"C:/Users/HP/OneDrive/Desktop/globalterrorismdb_0718dist.csv\", encoding='latin1', low_memory=False)\n",
    "\n",
    "# Keep only relevant columns\n",
    "columns = ['iyear', 'imonth', 'iday', 'country_txt', 'region_txt', 'gname',\n",
    "           'attacktype1_txt', 'targtype1_txt', 'weaptype1_txt', 'nkill', 'nwound', 'success']\n",
    "\n",
    "df = df[columns]\n",
    "df = df.dropna(subset=['success'])  # Drop if success is NaN\n"
   ]
  },
  {
   "cell_type": "code",
   "execution_count": 11,
   "id": "20084e4a-595a-4262-a57b-b338defe435a",
   "metadata": {},
   "outputs": [
    {
     "name": "stderr",
     "output_type": "stream",
     "text": [
      "C:\\Users\\HP\\AppData\\Local\\Temp\\ipykernel_2160\\2109530081.py:2: FutureWarning: A value is trying to be set on a copy of a DataFrame or Series through chained assignment using an inplace method.\n",
      "The behavior will change in pandas 3.0. This inplace method will never work because the intermediate object on which we are setting values always behaves as a copy.\n",
      "\n",
      "For example, when doing 'df[col].method(value, inplace=True)', try using 'df.method({col: value}, inplace=True)' or df[col] = df[col].method(value) instead, to perform the operation inplace on the original object.\n",
      "\n",
      "\n",
      "  df['nkill'].fillna(0, inplace=True)\n",
      "C:\\Users\\HP\\AppData\\Local\\Temp\\ipykernel_2160\\2109530081.py:3: FutureWarning: A value is trying to be set on a copy of a DataFrame or Series through chained assignment using an inplace method.\n",
      "The behavior will change in pandas 3.0. This inplace method will never work because the intermediate object on which we are setting values always behaves as a copy.\n",
      "\n",
      "For example, when doing 'df[col].method(value, inplace=True)', try using 'df.method({col: value}, inplace=True)' or df[col] = df[col].method(value) instead, to perform the operation inplace on the original object.\n",
      "\n",
      "\n",
      "  df['nwound'].fillna(0, inplace=True)\n"
     ]
    }
   ],
   "source": [
    "# Fill missing values\n",
    "df['nkill'].fillna(0, inplace=True)\n",
    "df['nwound'].fillna(0, inplace=True)\n",
    "\n",
    "# Combine date\n",
    "df['date'] = pd.to_datetime(dict(year=df['iyear'], month=df['imonth'].replace(0,1), day=df['iday'].replace(0,1)))\n",
    "\n",
    "# Drop unneeded date columns\n",
    "df.drop(['iyear', 'imonth', 'iday'], axis=1, inplace=True)\n",
    "\n",
    "# Encode categorical columns\n",
    "categorical_cols = ['country_txt', 'region_txt', 'gname', 'attacktype1_txt', 'targtype1_txt', 'weaptype1_txt']\n",
    "le = LabelEncoder()\n",
    "for col in categorical_cols:\n",
    "    df[col] = le.fit_transform(df[col])\n"
   ]
  },
  {
   "cell_type": "code",
   "execution_count": 13,
   "id": "e5542dda-1c8a-4be4-aa76-0c549887bdd0",
   "metadata": {},
   "outputs": [],
   "source": [
    "X = df.drop(['success', 'date'], axis=1)  # Features\n",
    "y = df['success']  # Target\n",
    "\n",
    "X_train, X_test, y_train, y_test = train_test_split(X, y, test_size=0.2, random_state=42)\n"
   ]
  },
  {
   "cell_type": "code",
   "execution_count": 15,
   "id": "4ee9b93d-e97f-4897-bba5-c258dfb7f491",
   "metadata": {},
   "outputs": [
    {
     "name": "stdout",
     "output_type": "stream",
     "text": [
      "Accuracy: 0.925672142876799\n",
      "\n",
      "Classification Report:\n",
      "               precision    recall  f1-score   support\n",
      "\n",
      "           0       0.73      0.51      0.60      3978\n",
      "           1       0.94      0.98      0.96     32361\n",
      "\n",
      "    accuracy                           0.93     36339\n",
      "   macro avg       0.84      0.74      0.78     36339\n",
      "weighted avg       0.92      0.93      0.92     36339\n",
      "\n"
     ]
    }
   ],
   "source": [
    "model = RandomForestClassifier(n_estimators=100, random_state=42)\n",
    "model.fit(X_train, y_train)\n",
    "\n",
    "# Predictions\n",
    "y_pred = model.predict(X_test)\n",
    "\n",
    "# Evaluation\n",
    "print(\"Accuracy:\", accuracy_score(y_test, y_pred))\n",
    "print(\"\\nClassification Report:\\n\", classification_report(y_test, y_pred))\n"
   ]
  },
  {
   "cell_type": "code",
   "execution_count": null,
   "id": "62c98b72-e1fc-438d-94fb-dcc3f538035f",
   "metadata": {},
   "outputs": [],
   "source": []
  }
 ],
 "metadata": {
  "kernelspec": {
   "display_name": "Python 3 (ipykernel)",
   "language": "python",
   "name": "python3"
  },
  "language_info": {
   "codemirror_mode": {
    "name": "ipython",
    "version": 3
   },
   "file_extension": ".py",
   "mimetype": "text/x-python",
   "name": "python",
   "nbconvert_exporter": "python",
   "pygments_lexer": "ipython3",
   "version": "3.12.7"
  }
 },
 "nbformat": 4,
 "nbformat_minor": 5
}
